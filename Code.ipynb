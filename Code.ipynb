{
 "cells": [
  {
   "cell_type": "code",
   "execution_count": null,
   "id": "887c4fc7",
   "metadata": {},
   "outputs": [],
   "source": [
    "import numpy as np\n",
    "import pandas as pd\n",
    "import seaborn as sns\n",
    "import matplotlib.pyplot as plt\n",
    "from io import StringIO\n",
    "from scipy.stats import randint\n",
    "from sklearn.feature_extraction.text import TfidfVectorizer, TfidfTransformer\n",
    "from sklearn.feature_selection import chi2\n",
    "from sklearn.model_selection import train_test_split\n",
    "from sklearn.naive_bayes import MultinomialNB\n",
    "from sklearn.linear_model import LogisticRegression\n",
    "from sklearn.ensemble import RandomForestClassifier\n",
    "from sklearn.svm import LinearSVC\n",
    "from sklearn.metrics import confusion_matrix, accuracy_score\n",
    "import joblib\n",
    "\n",
    "# Load dataset\n",
    "df = pd.read_csv(\"complaintsv3.csv\", encoding='unicode_escape')\n",
    "df1 = df[['cat', 'Grievance Category']].copy()\n",
    "df1 = df1[pd.notnull(df1['Grievance Category'])]\n",
    "df1.columns = ['cat', 'Grievance Category']\n",
    "\n",
    "df1['category_id'] = df1['cat'].factorize()[0]\n",
    "category_id_df = df1[['cat', 'category_id']].drop_duplicates()\n",
    "category_to_id = dict(category_id_df.values)\n",
    "id_to_category = dict(category_id_df[['category_id', 'cat']].values)\n",
    "\n",
    "# TF-IDF Vectorization\n",
    "tfidf = TfidfVectorizer(sublinear_tf=True, min_df=5, ngram_range=(1, 2), stop_words='english')\n",
    "features = tfidf.fit_transform(df1['Grievance Category']).toarray()\n",
    "labels = df1.category_id\n",
    "\n",
    "# Train-Test Split\n",
    "X_train, X_test, y_train, y_test = train_test_split(df1['Grievance Category'], df1['cat'], test_size=0.25, random_state=0)\n",
    "\n",
    "# Model Training\n",
    "models = [\n",
    "    RandomForestClassifier(n_estimators=100, max_depth=5, random_state=0),\n",
    "    LinearSVC(),\n",
    "    MultinomialNB(),\n",
    "    LogisticRegression(random_state=0),\n",
    "]\n",
    "\n",
    "for model in models:\n",
    "    tfidf_vectorizer_vectors = tfidf.fit_transform(X_train)\n",
    "    clf = model.fit(tfidf_vectorizer_vectors, y_train)\n",
    "    y_pred = clf.predict(tfidf.transform(X_test))\n",
    "    print(f\"{model.__class__.__name__} Accuracy: {accuracy_score(y_test, y_pred)}\")\n",
    "\n",
    "# Save the best model\n",
    "best_model = LinearSVC()\n",
    "best_model.fit(tfidf.fit_transform(X_train), y_train)\n",
    "joblib.dump(best_model, \"student_query_classifier.pkl\")\n",
    "\n",
    "print(\"Model training complete and saved as student_query_classifier.pkl\")\n"
   ]
  }
 ],
 "metadata": {
  "kernelspec": {
   "display_name": "Python 3 (ipykernel)",
   "language": "python",
   "name": "python3"
  },
  "language_info": {
   "codemirror_mode": {
    "name": "ipython",
    "version": 3
   },
   "file_extension": ".py",
   "mimetype": "text/x-python",
   "name": "python",
   "nbconvert_exporter": "python",
   "pygments_lexer": "ipython3",
   "version": "3.9.13"
  }
 },
 "nbformat": 4,
 "nbformat_minor": 5
}
